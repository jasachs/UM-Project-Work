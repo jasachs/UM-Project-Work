
   "source": [
    "import pandas as pd\n",
    "\n",
    "doc = []\n",
    "with open('dates.txt') as file:\n",
    "    for line in file:\n",
    "        doc.append(line)\n",
    "\n",
    "df = pd.Series(doc)\n",
    "df.head(10)"
   ]
  },
  {
   "cell_type": "code",
   "execution_count": 3,
   "metadata": {
    "collapsed": true
   },
   "outputs": [],
   "source": [
    "def date_sorter():\n",
    "    \n",
    "    dfd= pd.DataFrame(df,columns=['text'])\n",
    "    dfd['OrigIndex'] = dfd.index\n",
    "\n",
    "    # Missing this variant: Mar-20-2009 <- Checked for Nan and retrieved none\n",
    "    #271 - sb August 2008 - is pulling SSN, (298 - has January spelled wrong, 313 - December spelled wrong) Are Month Year with month spelled out\n",
    "    #dfd.iloc[271,0] <sample how to pull full text\n",
    "\n",
    "    dfd['date']=dfd['text'].str.extract(r'(\\d{1,2}[/-]\\d{1,2}[/-]\\d{2,4}|\\d{1,2}[/-]\\d{1,2}[/-]\\d{2,4}|\\d{1,2}[/-]\\d{4}|(?:Jan|Feb|Mar|Apr|May|Jun|Jul|Aug|Sep|Oct|Nov|Dec)[a-z]* (?:\\d{4})|(?:\\d{1,2} )?(?:Jan|Feb|Mar|Apr|May|Jun|Jul|Aug|Sep|Oct|Nov|Dec)[a-z]*[,.]* (?:\\d{1,2}[,.]* )?\\d{4})')\n",
    "    dfd['year']=dfd['text'].str.extract(r'([1|2]\\d{3})')\n",
    "\n",
    "\n",
    "    def dummydate(x):\n",
    "        return \"1/1/\"+str(x)\n",
    "\n",
    "    dfd['dummy'] = dfd['year'].map(dummydate)\n",
    "    dfd['AggDate']= dfd['date'].replace(np.nan,dfd['dummy'])\n",
    "    dfd.iloc[271,5]='August 2008'\n",
    "    dfd.iloc[298,5]='January 1993'\n",
    "    dfd.iloc[313,5]='December 1978'\n",
    "    dfd['CleanDate']=pd.to_datetime(dfd['AggDate'],errors='coerce')\n",
    "    dfd=dfd.sort_values(by='CleanDate')\n",
    "    result = dfd['OrigIndex']\n",
    "\n",
    "    \n",
    "    return result\n",
    "date_sorter()"
   ]
  }
 ],
 "metadata": {
  "coursera": {
   "course_slug": "python-text-mining",
   "graded_item_id": "LvcWI",
   "launcher_item_id": "krne9",
   "part_id": "Mkp1I"
  },
  "kernelspec": {
   "display_name": "Python 3",
   "language": "python",
   "name": "python3"
  },
  "language_info": {
   "codemirror_mode": {
    "name": "ipython",
    "version": 3
   },
   "file_extension": ".py",
   "mimetype": "text/x-python",
   "name": "python",
   "nbconvert_exporter": "python",
   "pygments_lexer": "ipython3",
   "version": "3.7.1"
  }
 },
 "nbformat": 4,
 "nbformat_minor": 2
}
