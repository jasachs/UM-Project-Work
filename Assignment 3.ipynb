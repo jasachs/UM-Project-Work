{
 "cells": [
  {
   "cell_type": "markdown",
   "metadata": {},
   "source": [
    "---\n",
    "\n",
    "_You are currently looking at **version 1.1** of this notebook. To download notebooks and datafiles, as well as get help on Jupyter notebooks in the Coursera platform, visit the [Jupyter Notebook FAQ](https://www.coursera.org/learn/python-text-mining/resources/d9pwm) course resource._\n",
    "\n",
    "---"
   ]
  },
  {
   "cell_type": "markdown",
   "metadata": {},
   "source": [
    "# Assignment 3\n",
    "\n",
    "In this assignment you will explore text message data and create models to predict if a message is spam or not. "
   ]
  },
  {
   "cell_type": "code",
   "execution_count": null,
   "metadata": {
    "collapsed": true
   },
   "outputs": [],
   "source": [
    "import pandas as pd\n",
    "import numpy as np\n",
    "\n",
    "spam_data = pd.read_csv('spam.csv')\n",
    "\n",
    "spam_data['target'] = np.where(spam_data['target']=='spam',1,0)\n",
    "spam_data.head(10)"
   ]
  },
  {
   "cell_type": "code",
   "execution_count": null,
   "metadata": {
    "collapsed": true
   },
   "outputs": [],
   "source": [
    "from sklearn.model_selection import train_test_split\n",
    "\n",
    "\n",
    "X_train, X_test, y_train, y_test = train_test_split(spam_data['text'], \n",
    "                                                    spam_data['target'], \n",
    "                                                    random_state=0)"
   ]
  },
  {
   "cell_type": "markdown",
   "metadata": {},
   "source": [
    "### Question 1\n",
    "What percentage of the documents in `spam_data` are spam?\n",
    "\n",
    "*This function should return a float, the percent value (i.e. $ratio * 100$).*"
   ]
  },
  {
   "cell_type": "code",
   "execution_count": null,
   "metadata": {
    "collapsed": true
   },
   "outputs": [],
   "source": [
    "def answer_one():\n",
    "    answer=spam_data['target'].sum()/spam_data['target'].count()\n",
    "    \n",
    "    return answer*100"
   ]
  },
  {
   "cell_type": "code",
   "execution_count": null,
   "metadata": {
    "collapsed": true
   },
   "outputs": [],
   "source": [
    "answer_one()"
   ]
  },
  {
   "cell_type": "markdown",
   "metadata": {},
   "source": [
    "### Question 2\n",
    "\n",
    "Fit the training data `X_train` using a Count Vectorizer with default parameters.\n",
    "\n",
    "What is the longest token in the vocabulary?\n",
    "\n",
    "*This function should return a string.*"
   ]
  },
  {
   "cell_type": "code",
   "execution_count": null,
   "metadata": {
    "collapsed": true
   },
   "outputs": [],
   "source": [
    "from sklearn.feature_extraction.text import CountVectorizer\n",
    "\n",
    "def answer_two():\n",
    "    X_train_two=X_train\n",
    "    vect_two=CountVectorizer().fit(X_train_two)\n",
    "    \n",
    "    return max(vect_two.get_feature_names(),key=len)"
   ]
  },
  {
   "cell_type": "code",
   "execution_count": null,
   "metadata": {
    "collapsed": true
   },
   "outputs": [],
   "source": [
    "answer_two()"
   ]
  },
  {
   "cell_type": "markdown",
   "metadata": {},
   "source": [
    "### Question 3\n",
    "\n",
    "Fit and transform the training data `X_train` using a Count Vectorizer with default parameters.\n",
    "\n",
    "Next, fit a fit a multinomial Naive Bayes classifier model with smoothing `alpha=0.1`. Find the area under the curve (AUC) score using the transformed test data.\n",
    "\n",
    "*This function should return the AUC score as a float.*"
   ]
  },
  {
   "cell_type": "code",
   "execution_count": null,
   "metadata": {
    "collapsed": true
   },
   "outputs": [],
   "source": [
    "from sklearn.naive_bayes import MultinomialNB\n",
    "from sklearn.metrics import roc_auc_score\n",
    "\n",
    "def answer_three():\n",
    "    X_train_three=X_train\n",
    "    vect_three=CountVectorizer().fit(X_train_three)\n",
    "    X_train_vectorized_three=vect_three.transform(X_train_three)\n",
    "    model_three = MultinomialNB(alpha=0.1)\n",
    "    model_three.fit(X_train_vectorized_three,y_train)\n",
    "    predictions_three=model_three.predict(vect_three.transform(X_test))\n",
    "    return roc_auc_score(y_test,predictions_three)"
   ]
  },
  {
   "cell_type": "code",
   "execution_count": null,
   "metadata": {
    "collapsed": true
   },
   "outputs": [],
   "source": [
    "answer_three()"
   ]
  },
  {
   "cell_type": "markdown",
   "metadata": {},
   "source": [
    "### Question 4\n",
    "\n",
    "Fit and transform the training data `X_train` using a Tfidf Vectorizer with default parameters.\n",
    "\n",
    "What 20 features have the smallest tf-idf and what 20 have the largest tf-idf?\n",
    "\n",
    "Put these features in a two series where each series is sorted by tf-idf value and then alphabetically by feature name. The index of the series should be the feature name, and the data should be the tf-idf.\n",
    "\n",
    "The series of 20 features with smallest tf-idfs should be sorted smallest tfidf first, the list of 20 features with largest tf-idfs should be sorted largest first. \n",
    "\n",
    "*This function should return a tuple of two series\n",
    "`(smallest tf-idfs series, largest tf-idfs series)`.*"
   ]
  },
  {
   "cell_type": "code",
   "execution_count": null,
   "metadata": {
    "collapsed": true
   },
   "outputs": [],
   "source": [
    "from sklearn.feature_extraction.text import TfidfVectorizer\n",
    "\n",
    "def answer_four():\n",
    "#     X_train_four = X_train\n",
    "#     vect_four=TfidfVectorizer().fit(X_train_four)\n",
    "#     X_train_vectorized_four=vect_four.transform(X_train_four)\n",
    "#     feature_names_four=np.array(vect_four.get_feature_names())\n",
    "#     sorted_tfidf_index=X_train_vectorized_four.max(0).toarray()[0].argsort()\n",
    "#     sorted_tfidf_index = [float(i) for i in sorted_tfidf_index]\n",
    "#     tfidf_large=pd.Series(sorted_tfidf_index[:20],index=feature_names_four[sorted_tfidf_index[:20]]).sort_values(ascending=False)\n",
    "#     tfidf_small=pd.Series(sorted_tfidf_index[:-21:-1],index=feature_names_four[sorted_tfidf_index[:-21:-1]]).sort_values()\n",
    "    \n",
    "    return  #(tfidf_small,tfidf_large)"
   ]
  },
  {
   "cell_type": "code",
   "execution_count": null,
   "metadata": {
    "collapsed": true
   },
   "outputs": [],
   "source": [
    "answer_four()"
   ]
  },
  {
   "cell_type": "markdown",
   "metadata": {},
   "source": [
    "### Question 5\n",
    "\n",
    "Fit and transform the training data `X_train` using a Tfidf Vectorizer ignoring terms that have a document frequency strictly lower than **3**.\n",
    "\n",
    "Then fit a multinomial Naive Bayes classifier model with smoothing `alpha=0.1` and compute the area under the curve (AUC) score using the transformed test data.\n",
    "\n",
    "*This function should return the AUC score as a float.*"
   ]
  },
  {
   "cell_type": "code",
   "execution_count": null,
   "metadata": {
    "collapsed": true
   },
   "outputs": [],
   "source": [
    "def answer_five():\n",
    "    X_train_five=X_train\n",
    "    vect_five=TfidfVectorizer(min_df=3).fit(X_train_five)\n",
    "    X_train_vectorized_five=vect_five.transform(X_train_five)\n",
    "    model_five = MultinomialNB(alpha=0.1)\n",
    "    model_five.fit(X_train_vectorized_five,y_train)\n",
    "    predictions_five=model_five.predict(vect_five.transform(X_test))\n",
    "    return roc_auc_score(y_test,predictions_five)"
   ]
  },
  {
   "cell_type": "code",
   "execution_count": null,
   "metadata": {
    "collapsed": true
   },
   "outputs": [],
   "source": [
    "answer_five()"
   ]
  },
  {
   "cell_type": "markdown",
   "metadata": {},
   "source": [
    "### Question 6\n",
    "\n",
    "What is the average length of documents (number of characters) for not spam and spam documents?\n",
    "\n",
    "*This function should return a tuple (average length not spam, average length spam).*"
   ]
  },
  {
   "cell_type": "code",
   "execution_count": null,
   "metadata": {
    "collapsed": true
   },
   "outputs": [],
   "source": [
    "def answer_six():\n",
    "    spam_data_six=spam_data\n",
    "    spam_data_six['len'] = spam_data_six['text'].apply(lambda x: len(x))\n",
    "    not_spam_len_six=np.average(spam_data_six.where(spam_data_six['target']==0).dropna()['len'])\n",
    "    spam_len_six=np.average(spam_data_six.where(spam_data_six['target']==1).dropna()['len'])\n",
    "    #5572\n",
    "    return (not_spam_len_six,spam_len_six)"
   ]
  },
  {
   "cell_type": "code",
   "execution_count": null,
   "metadata": {
    "collapsed": true
   },
   "outputs": [],
   "source": [
    "answer_six()"
   ]
  },
  {
   "cell_type": "markdown",
   "metadata": {},
   "source": [
    "<br>\n",
    "<br>\n",
    "The following function has been provided to help you combine new features into the training data:"
   ]
  },
  {
   "cell_type": "code",
   "execution_count": null,
   "metadata": {
    "collapsed": true
   },
   "outputs": [],
   "source": [
    "def add_feature(X, feature_to_add):\n",
    "    \"\"\"\n",
    "    Returns sparse feature matrix with added feature.\n",
    "    feature_to_add can also be a list of features.\n",
    "    \"\"\"\n",
    "    from scipy.sparse import csr_matrix, hstack\n",
    "    return hstack([X, csr_matrix(feature_to_add).T], 'csr')"
   ]
  },
  {
   "cell_type": "markdown",
   "metadata": {},
   "source": [
    "### Question 7\n",
    "\n",
    "Fit and transform the training data X_train using a Tfidf Vectorizer ignoring terms that have a document frequency strictly lower than **5**.\n",
    "\n",
    "Using this document-term matrix and an additional feature, **the length of document (number of characters)**, fit a Support Vector Classification model with regularization `C=10000`. Then compute the area under the curve (AUC) score using the transformed test data.\n",
    "\n",
    "*This function should return the AUC score as a float.*"
   ]
  },
  {
   "cell_type": "code",
   "execution_count": null,
   "metadata": {
    "collapsed": true
   },
   "outputs": [],
   "source": [
    "from sklearn.svm import SVC\n",
    "\n",
    "def answer_seven():\n",
    "    \n",
    "    vect_seven=TfidfVectorizer(min_df=5).fit(X_train)\n",
    "    X_train_vectorized_seven=vect_seven.transform(X_train)\n",
    "    X_test_vectorized_seven = vect_seven.transform(X_test)\n",
    "    \n",
    "    X_train_doc_len_seven = X_train.apply(len) #X_train_seven.apply(lambda x: len(x))\n",
    "    X_train_vect_add_seven=add_feature(X_train_vectorized_seven,X_train_doc_len_seven)\n",
    "    \n",
    "    X_test_doc_len_seven = X_test.apply(len)\n",
    "    X_test_vect_add_seven=add_feature(X_test_vectorized_seven,X_test_doc_len_seven)\n",
    "    \n",
    "    model_seven = SVC(probability=True,C=10000)\n",
    "    model_seven.fit(X_train_vect_add_seven,y_train)\n",
    "    \n",
    "    y_score_seven=model_seven.predict_proba(X_test_vect_add_seven)\n",
    "    \n",
    "    #predictions=model.predict(vect.transform(X_test))\n",
    "    return roc_auc_score(y_test, y_score_seven[:, 1]) "
   ]
  },
  {
   "cell_type": "code",
   "execution_count": null,
   "metadata": {
    "collapsed": true
   },
   "outputs": [],
   "source": [
    "answer_seven()"
   ]
  },
  {
   "cell_type": "markdown",
   "metadata": {},
   "source": [
    "### Question 8\n",
    "\n",
    "What is the average number of digits per document for not spam and spam documents?\n",
    "\n",
    "*This function should return a tuple (average # digits not spam, average # digits spam).*"
   ]
  },
  {
   "cell_type": "code",
   "execution_count": null,
   "metadata": {
    "collapsed": true
   },
   "outputs": [],
   "source": [
    "import re\n",
    "def answer_eight():\n",
    "    spam_data_eight=spam_data\n",
    "    spam_data_eight['digits']=spam_data_eight['text'].apply(lambda x: re.findall(r'\\d',x)) #returns list\n",
    "    spam_data_eight['len'] = spam_data_eight['digits'].apply(lambda x: len(x))\n",
    "    not_spam_len8=np.average(spam_data_eight.where(spam_data_eight['target']==0).dropna()['len'])\n",
    "    spam_len8=np.average(spam_data_eight.where(spam_data_eight['target']==1).dropna()['len'])\n",
    "    #5572\n",
    "    return (not_spam_len8,spam_len8)"
   ]
  },
  {
   "cell_type": "code",
   "execution_count": null,
   "metadata": {
    "collapsed": true
   },
   "outputs": [],
   "source": [
    "answer_eight()"
   ]
  },
  {
   "cell_type": "markdown",
   "metadata": {},
   "source": [
    "### Question 9\n",
    "\n",
    "Fit and transform the training data `X_train` using a Tfidf Vectorizer ignoring terms that have a document frequency strictly lower than **5** and using **word n-grams from n=1 to n=3** (unigrams, bigrams, and trigrams).\n",
    "\n",
    "Using this document-term matrix and the following additional features:\n",
    "* the length of document (number of characters)\n",
    "* **number of digits per document**\n",
    "\n",
    "fit a Logistic Regression model with regularization `C=100`. Then compute the area under the curve (AUC) score using the transformed test data.\n",
    "\n",
    "*This function should return the AUC score as a float.*"
   ]
  },
  {
   "cell_type": "code",
   "execution_count": null,
   "metadata": {
    "collapsed": true
   },
   "outputs": [],
   "source": [
    "from sklearn.linear_model import LogisticRegression\n",
    "\n",
    "def answer_nine():\n",
    "    \n",
    "    vect_nine=TfidfVectorizer(min_df=5,ngram_range=(1,3)).fit(X_train)\n",
    "    X_train_vectorized_nine=vect_nine.transform(X_train)\n",
    "    X_test_vectorized_nine=vect_nine.transform(X_test)\n",
    "    \n",
    "    X_train_doc_len_nine = X_train.str.len()\n",
    "    X_train_digit=X_train.apply(lambda x: re.findall(r'\\d',x))\n",
    "    X_train_digit_len_nine=X_train_digit.str.len()\n",
    "    \n",
    "    X_train_vect_add_nine=add_feature(X_train_vectorized_nine,X_train_doc_len_nine)\n",
    "    X_train_vect_add_nine=add_feature(X_train_vect_add_nine,X_train_digit_len_nine)\n",
    "    model_nine = LogisticRegression(C=100)\n",
    "    model_nine.fit(X_train_vect_add_nine,y_train)\n",
    "    \n",
    "    X_test_doc_len_nine = X_test.str.len()\n",
    "    X_test_digit=X_test.apply(lambda x: re.findall(r'\\d',x))\n",
    "    X_test_digit_len_nine=X_test_digit.str.len()\n",
    "    \n",
    "    X_test_vect_add_nine=add_feature(X_test_vectorized_nine,X_test_doc_len_nine)\n",
    "    X_test_vect_add_nine=add_feature(X_test_vect_add_nine,X_test_digit_len_nine)\n",
    "    \n",
    "    \n",
    "    \n",
    "    predictions_nine=model_nine.predict(X_test_vect_add_nine)\n",
    "    return roc_auc_score(y_test,predictions_nine)"
   ]
  },
  {
   "cell_type": "code",
   "execution_count": null,
   "metadata": {
    "collapsed": true
   },
   "outputs": [],
   "source": [
    "answer_nine()"
   ]
  },
  {
   "cell_type": "markdown",
   "metadata": {},
   "source": [
    "### Question 10\n",
    "\n",
    "What is the average number of non-word characters (anything other than a letter, digit or underscore) per document for not spam and spam documents?\n",
    "\n",
    "*Hint: Use `\\w` and `\\W` character classes*\n",
    "\n",
    "*This function should return a tuple (average # non-word characters not spam, average # non-word characters spam).*"
   ]
  },
  {
   "cell_type": "code",
   "execution_count": null,
   "metadata": {
    "collapsed": true
   },
   "outputs": [],
   "source": [
    "def answer_ten():\n",
    "    spam_data_ten =spam_data\n",
    "    spam_data_ten['digits']=spam_data_ten['text'].apply(lambda x: re.findall(r'\\W',x)) #returns list\n",
    "    spam_data_ten['len'] = spam_data_ten['digits'].apply(lambda x: len(x))\n",
    "    not_spam_len_10=np.average(spam_data_ten.where(spam_data_ten['target']==0).dropna()['len'])\n",
    "    spam_len_10=np.average(spam_data_ten.where(spam_data_ten['target']==1).dropna()['len'])\n",
    "    #5572\n",
    "    return (not_spam_len_10,spam_len_10)"
   ]
  },
  {
   "cell_type": "code",
   "execution_count": null,
   "metadata": {
    "collapsed": true
   },
   "outputs": [],
   "source": [
    "answer_ten()"
   ]
  },
  {
   "cell_type": "markdown",
   "metadata": {},
   "source": [
    "### Question 11\n",
    "\n",
    "Fit and transform the training data X_train using a Count Vectorizer ignoring terms that have a document frequency strictly lower than **5** and using **character n-grams from n=2 to n=5.**\n",
    "\n",
    "To tell Count Vectorizer to use character n-grams pass in `analyzer='char_wb'` which creates character n-grams only from text inside word boundaries. This should make the model more robust to spelling mistakes.\n",
    "\n",
    "Using this document-term matrix and the following additional features:\n",
    "* the length of document (number of characters)\n",
    "* number of digits per document\n",
    "* **number of non-word characters (anything other than a letter, digit or underscore.)**\n",
    "\n",
    "fit a Logistic Regression model with regularization C=100. Then compute the area under the curve (AUC) score using the transformed test data.\n",
    "\n",
    "Also **find the 10 smallest and 10 largest coefficients from the model** and return them along with the AUC score in a tuple.\n",
    "\n",
    "The list of 10 smallest coefficients should be sorted smallest first, the list of 10 largest coefficients should be sorted largest first.\n",
    "\n",
    "The three features that were added to the document term matrix should have the following names should they appear in the list of coefficients:\n",
    "['length_of_doc', 'digit_count', 'non_word_char_count']\n",
    "\n",
    "*This function should return a tuple `(AUC score as a float, smallest coefs list, largest coefs list)`.*"
   ]
  },
  {
   "cell_type": "code",
   "execution_count": null,
   "metadata": {
    "collapsed": true
   },
   "outputs": [],
   "source": [
    "def answer_eleven():\n",
    "    \n",
    "    vect_eleven=CountVectorizer(min_df=5,ngram_range=(2,5),analyzer='char_wb').fit(X_train)\n",
    "    X_train_vectorized_eleven=vect_eleven.transform(X_train)\n",
    "    X_test_vectorized_eleven=vect_eleven.transform(X_test)\n",
    "    \n",
    "    length_of_doc = X_train.str.len()\n",
    "    X_train_digit_eleven = X_train.apply(lambda x: re.findall(r'\\d',x))\n",
    "    digit_count=X_train_digit_eleven.str.len()\n",
    "    X_train_nonword_eleven = X_train.apply(lambda x: re.findall(r'\\W',x))\n",
    "    non_word_char_count=X_train_nonword_eleven.str.len()\n",
    "    \n",
    "    X_train_vect_add_eleven=add_feature(X_train_vectorized_eleven,length_of_doc)\n",
    "    X_train_vect_add_eleven=add_feature(X_train_vect_add_eleven,digit_count)\n",
    "    X_train_vect_add_eleven=add_feature(X_train_vect_add_eleven,non_word_char_count)\n",
    "    \n",
    "    length_of_doc_test = X_test.str.len()\n",
    "    X_test_digit_eleven = X_test.apply(lambda x: re.findall(r'\\d',x))\n",
    "    digit_count_test=X_test_digit_eleven.str.len()\n",
    "    X_test_nonword_eleven = X_test.apply(lambda x: re.findall(r'\\W',x))\n",
    "    non_word_char_count_test=X_test_nonword_eleven.str.len()\n",
    "    \n",
    "    X_test_vect_add_eleven=add_feature(X_test_vectorized_eleven,length_of_doc_test)\n",
    "    X_test_vect_add_eleven=add_feature(X_test_vect_add_eleven,digit_count_test)\n",
    "    X_test_vect_add_eleven=add_feature(X_test_vect_add_eleven,non_word_char_count_test)\n",
    "    \n",
    "    \n",
    "    model_eleven = LogisticRegression(C=100)\n",
    "    model_eleven.fit(X_train_vect_add_eleven,y_train)\n",
    "    predictions_eleven=model_eleven.predict(X_test_vect_add_eleven)\n",
    "    \n",
    "    feature_names_eleven=np.array(vect_eleven.get_feature_names())\n",
    "    feature_names_eleven=np.append(feature_names_eleven,['length_of_doc', 'digit_count', 'non_word_char_count'])\n",
    "    \n",
    "    sorted_coef_index=model_eleven.coef_[0].argsort() #try as a list\n",
    "    sorted_coef_index=[float(i) for i in sorted_coef_index]\n",
    "    small_coef=pd.Series(sorted_coef_index[:10],index=feature_names_eleven[sorted_coef_index[:10]]).sort_values()\n",
    "    large_coef=pd.Series(sorted_coef_index[:-11:-1],index=feature_names_eleven[sorted_coef_index[:-11:-1]]).sort_values(ascending=False)\n",
    "    \n",
    "    return (roc_auc_score(y_test,predictions_eleven),small_coef,large_coef)"
   ]
  },
  {
   "cell_type": "code",
   "execution_count": null,
   "metadata": {
    "collapsed": true
   },
   "outputs": [],
   "source": [
    "answer_eleven()"
   ]
  }
 ],
 "metadata": {
  "coursera": {
   "course_slug": "python-text-mining",
   "graded_item_id": "Pn19K",
   "launcher_item_id": "y1juS",
   "part_id": "ctlgo"
  },
  "kernelspec": {
   "display_name": "Python 3",
   "language": "python",
   "name": "python3"
  },
  "language_info": {
   "codemirror_mode": {
    "name": "ipython",
    "version": 3
   },
   "file_extension": ".py",
   "mimetype": "text/x-python",
   "name": "python",
   "nbconvert_exporter": "python",
   "pygments_lexer": "ipython3",
   "version": "3.7.1"
  }
 },
 "nbformat": 4,
 "nbformat_minor": 2
}
